{
 "cells": [
  {
   "cell_type": "code",
   "execution_count": 1,
   "metadata": {},
   "outputs": [],
   "source": [
    "import json\n",
    "import os\n",
    "from tqdm import tqdm"
   ]
  },
  {
   "cell_type": "code",
   "execution_count": 3,
   "metadata": {},
   "outputs": [],
   "source": [
    "save_path = \"path/to/save/rationale/data\"\n",
    "data_path_list = ['rationale/train/data/json/path',\n",
    "                  'rationale/val/data/json/path',\n",
    "                  'rationale/test/data/json/path']"
   ]
  },
  {
   "cell_type": "code",
   "execution_count": 3,
   "metadata": {},
   "outputs": [],
   "source": [
    "input_prompt = \"Question: {patient_data} What is the diagnosis of this patient?\\n(A) Alzheimer's disease\\n(B) Mild Cognitive Impairment\\n(C) Normal Cognition\\n\"\n",
    "label_prompt = \"Medical Rationale: {prediction}\\n\\nAnswer: {answer}\"\n",
    "# label_prompt = \"Answer: {answer}\"\n"
   ]
  },
  {
   "cell_type": "code",
   "execution_count": 5,
   "metadata": {},
   "outputs": [
    {
     "name": "stderr",
     "output_type": "stream",
     "text": [
      "100%|██████████| 6062/6062 [00:00<00:00, 194068.40it/s]\n",
      "100%|██████████| 303/303 [00:00<00:00, 250566.66it/s]\n",
      "100%|██████████| 759/759 [00:00<00:00, 245392.49it/s]\n"
     ]
    }
   ],
   "source": [
    "name_list = ['train','valid','test']\n",
    "result_dict = {\n",
    "    'train': {'data':[]},\n",
    "    'valid': {'data':[]},\n",
    "    'test': {'data':[]}\n",
    "}\n",
    "answer_dict = {\n",
    "    'Normal Cognition': '(C) Normal Cognition',\n",
    "    'Mild Cognitive Impairment': '(B) Mild Cognitive Impairment',\n",
    "    'Dementia': '(A) Alzheimer\\'s disease'\n",
    "}\n",
    "\n",
    "for name, path in zip(name_list, data_path_list):\n",
    "    with open(path, 'r') as f:\n",
    "        data = json.load(f)\n",
    "    for d in tqdm(data):\n",
    "        result_dict[name]['data'].append({\n",
    "            'id': d['id'],\n",
    "            'input': input_prompt.format(patient_data=d['patient_data']),\n",
    "            'label': label_prompt.format(prediction=d['prediction'], answer=answer_dict[d['label']]),\n",
    "            'patient_data': d['patient_data'],\n",
    "            'org_label': d['label'],\n",
    "        })\n",
    "        \n"
   ]
  },
  {
   "cell_type": "code",
   "execution_count": 6,
   "metadata": {},
   "outputs": [
    {
     "name": "stdout",
     "output_type": "stream",
     "text": [
      "6062\n",
      "303\n",
      "759\n"
     ]
    }
   ],
   "source": [
    "for name in name_list:\n",
    "    print(len(result_dict[name]['data']))"
   ]
  },
  {
   "cell_type": "code",
   "execution_count": 12,
   "metadata": {},
   "outputs": [],
   "source": [
    "# save\n",
    "for name in name_list:\n",
    "    with open(os.path.join(save_path, f'{name}.json'), 'w') as f:\n",
    "        json.dump(result_dict[name], f, indent=4, ensure_ascii=False)"
   ]
  },
  {
   "cell_type": "markdown",
   "metadata": {},
   "source": [
    "# AIBL"
   ]
  },
  {
   "cell_type": "code",
   "execution_count": 6,
   "metadata": {},
   "outputs": [
    {
     "name": "stderr",
     "output_type": "stream",
     "text": [
      "100%|██████████| 428/428 [00:00<00:00, 286675.52it/s]\n"
     ]
    }
   ],
   "source": [
    "result_dict = {\n",
    "    'test_AIBL': {'data':[]},\n",
    "}\n",
    "answer_dict = {\n",
    "    'Normal Cognition': '(C) Normal Cognition',\n",
    "    'Mild Cognitive Impairment': '(B) Mild Cognitive Impairment',\n",
    "    'Dementia': '(A) Alzheimer\\'s disease'\n",
    "}\n",
    "\n",
    "\n",
    "with open(\"AIBL/test/json/file/path\", 'r') as f:\n",
    "    data = json.load(f)\n",
    "    \n",
    "for d in tqdm(data):\n",
    "    result_dict['test_AIBL']['data'].append({\n",
    "        'id': d['id'],\n",
    "        'input': input_prompt.format(patient_data=d['patient_data']),\n",
    "        'label': answer_dict[d['label']],\n",
    "        'patient_data': d['patient_data'],\n",
    "        'org_label': d['label'],\n",
    "    })"
   ]
  },
  {
   "cell_type": "code",
   "execution_count": 7,
   "metadata": {},
   "outputs": [],
   "source": [
    "with open(\"AIBL/test/rationale/json/data/save/path\", 'w') as f:\n",
    "    json.dump(result_dict['test_AIBL'], f, indent=4, ensure_ascii=False)"
   ]
  },
  {
   "cell_type": "code",
   "execution_count": null,
   "metadata": {},
   "outputs": [],
   "source": []
  }
 ],
 "metadata": {
  "kernelspec": {
   "display_name": "tyMR",
   "language": "python",
   "name": "python3"
  },
  "language_info": {
   "codemirror_mode": {
    "name": "ipython",
    "version": 3
   },
   "file_extension": ".py",
   "mimetype": "text/x-python",
   "name": "python",
   "nbconvert_exporter": "python",
   "pygments_lexer": "ipython3",
   "version": "3.9.17"
  },
  "orig_nbformat": 4
 },
 "nbformat": 4,
 "nbformat_minor": 2
}
