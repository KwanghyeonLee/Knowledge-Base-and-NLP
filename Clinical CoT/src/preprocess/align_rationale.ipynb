{
 "cells": [
  {
   "cell_type": "code",
   "execution_count": 2,
   "metadata": {},
   "outputs": [],
   "source": [
    "import numpy as np\n",
    "import json\n",
    "import os\n",
    "from tqdm import tqdm"
   ]
  },
  {
   "cell_type": "code",
   "execution_count": 3,
   "metadata": {},
   "outputs": [],
   "source": [
    "rationale_path = \"/path/to/rationale/dir\"\n",
    "rationale_list = ['train', 'valid', 'test']"
   ]
  },
  {
   "cell_type": "code",
   "execution_count": 4,
   "metadata": {},
   "outputs": [],
   "source": [
    "data_path = \"path/to/mm/data/dir\"\n",
    "data_list = ['train', 'validation', 'test']"
   ]
  },
  {
   "cell_type": "code",
   "execution_count": 8,
   "metadata": {},
   "outputs": [],
   "source": [
    "save_path = \"save/path/directory\""
   ]
  },
  {
   "cell_type": "markdown",
   "metadata": {},
   "source": [
    "# Train, Valid"
   ]
  },
  {
   "cell_type": "code",
   "execution_count": 5,
   "metadata": {},
   "outputs": [],
   "source": [
    "# Align rationale with data\n",
    "with open(os.path.join(rationale_path, \"valid.json\"), \"r\") as f:\n",
    "    data = json.load(f)\n",
    "    if 'data' in data:\n",
    "        data = data['data']"
   ]
  },
  {
   "cell_type": "code",
   "execution_count": 12,
   "metadata": {},
   "outputs": [
    {
     "name": "stderr",
     "output_type": "stream",
     "text": [
      "100%|██████████| 303/303 [04:52<00:00,  1.04it/s]\n"
     ]
    }
   ],
   "source": [
    "for d_path in tqdm(os.listdir(os.path.join(data_path,'validation'))):\n",
    "    temp = np.load(os.path.join(data_path,'validation',d_path), allow_pickle=True)\n",
    "    t = dict()\n",
    "    for r in data:\n",
    "        if r['patient_data'] == temp['patient_data']:\n",
    "            t['id'] = temp['id']\n",
    "            t['patient_data'] = temp['patient_data']\n",
    "            t['image_mr']  = np.expand_dims(temp['image_mr'], axis=0)\n",
    "            t['image_parcel'] = temp['image_parcel']\n",
    "            t['input'] = r['input']\n",
    "            t['label'] = r['label']\n",
    "            t['org_label'] = r['org_label']\n",
    "            np.savez_compressed(os.path.join(save_path, 'validation', f\"{temp['id']}.npz\"), **t)\n",
    "            break\n"
   ]
  },
  {
   "cell_type": "markdown",
   "metadata": {},
   "source": [
    "Test"
   ]
  },
  {
   "cell_type": "code",
   "execution_count": null,
   "metadata": {},
   "outputs": [],
   "source": [
    "# Align rationale with data\n",
    "with open(os.path.join(rationale_path, \"valid.json\"), \"r\") as f:\n",
    "    data = json.load(f)\n",
    "    if 'data' in data:\n",
    "        data = data['data']"
   ]
  },
  {
   "cell_type": "code",
   "execution_count": null,
   "metadata": {},
   "outputs": [],
   "source": [
    "for d_path in tqdm(os.listdir(os.path.join(data_path,'validation'))):\n",
    "    temp = np.load(os.path.join(data_path,'validation',d_path), allow_pickle=True)\n",
    "    t = dict()\n",
    "    for r in data:\n",
    "        if r['patient_data'] == temp['patient_data']:\n",
    "            t['id'] = temp['id']\n",
    "            t['patient_data'] = temp['patient_data']\n",
    "            t['image_mr']  = np.expand_dims(temp['image_mr'], axis=0)\n",
    "            t['image_parcel'] = temp['image_parcel']\n",
    "            t['input'] = r['input']\n",
    "            t['label'] = r['label']\n",
    "            t['org_label'] = r['org_label']\n",
    "            np.savez_compressed(os.path.join(save_path, 'validation', f\"{temp['id']}.npz\"), **t)\n",
    "            break\n"
   ]
  }
 ],
 "metadata": {
  "kernelspec": {
   "display_name": "tyMR",
   "language": "python",
   "name": "python3"
  },
  "language_info": {
   "codemirror_mode": {
    "name": "ipython",
    "version": 3
   },
   "file_extension": ".py",
   "mimetype": "text/x-python",
   "name": "python",
   "nbconvert_exporter": "python",
   "pygments_lexer": "ipython3",
   "version": "3.9.17"
  },
  "orig_nbformat": 4
 },
 "nbformat": 4,
 "nbformat_minor": 2
}
