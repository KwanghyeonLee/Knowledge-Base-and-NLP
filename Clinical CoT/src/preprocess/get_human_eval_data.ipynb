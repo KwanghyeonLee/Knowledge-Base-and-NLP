{
 "cells": [
  {
   "cell_type": "code",
   "execution_count": 1,
   "metadata": {},
   "outputs": [],
   "source": [
    "import json\n",
    "import re"
   ]
  },
  {
   "cell_type": "code",
   "execution_count": 2,
   "metadata": {},
   "outputs": [],
   "source": [
    "base_path = \"module1/data/json/path\"\n",
    "gpt4_path = \"gpt4/data/json/path\"\n",
    "llama_path = \"llama2_7B/data/json/path\"\n",
    "opt6_path = \"opt6_3b/data/json/path\"\n",
    "opt1_path = \"opt1_3b/data/json/path\"\n",
    "frozen_path = \"frozen/data/json/path\"\n",
    "\n",
    "with open(base_path, \"r\") as f:\n",
    "    base = json.load(f)\n",
    "    if 'data' in base:\n",
    "        base = base['data']\n",
    "\n",
    "with open(gpt4_path, \"r\") as f:\n",
    "    gpt4 = json.load(f)\n",
    "    if 'data' in gpt4:\n",
    "        gpt4 = gpt4['data']\n",
    "    \n",
    "with open(llama_path, \"r\") as f:\n",
    "    llama = json.load(f)\n",
    "    if 'data' in llama:\n",
    "        llama = llama['data']\n",
    "\n",
    "with open(opt6_path, \"r\") as f:\n",
    "    opt = json.load(f)\n",
    "    if 'data' in opt:\n",
    "        opt = opt['data']\n",
    "\n",
    "with open(opt1_path, \"r\") as f:\n",
    "    opt1 = json.load(f)\n",
    "    if 'data' in opt1:\n",
    "        opt1 = opt1['data']\n",
    "\n",
    "with open(frozen_path, \"r\") as f:\n",
    "    frozen = json.load(f)\n",
    "    if 'data' in frozen:\n",
    "        frozen = frozen['data']"
   ]
  },
  {
   "cell_type": "code",
   "execution_count": 3,
   "metadata": {},
   "outputs": [],
   "source": [
    "answer_dict_for_gpt4 = {\n",
    "    'Normal Cognition': 'Answer: (C) Normal Cognition',\n",
    "    'Mild Cognitive Impairment': 'Answer: (B) Mild Cognitive Impairment',\n",
    "    'Alzhimer\\'s Disease': 'Answer: (A) Alzheimer\\'s disease'\n",
    "}\n",
    "answer_dict = {\n",
    "    'Normal Cognition': 'C',\n",
    "    'Mild Cognitive Impairment': 'B',\n",
    "    'Alzhimer\\'s Disease': 'A'\n",
    "}\n",
    "def get_answer(answer):\n",
    "    ans = re.findall(r'\\([A-D]\\)', answer)\n",
    "    ans = [a[1:-1] for a in ans]\n",
    "    if len(ans) == 0:\n",
    "        return None\n",
    "    return ans[0]"
   ]
  },
  {
   "cell_type": "code",
   "execution_count": 4,
   "metadata": {},
   "outputs": [
    {
     "name": "stdout",
     "output_type": "stream",
     "text": [
      "757\n"
     ]
    }
   ],
   "source": [
    "save_data = []\n",
    "all_corect_idx_list = []\n",
    "all_wrong_idx_list = []\n",
    "for d in base:\n",
    "    if d['id'] == 452 or d['id'] == 707:\n",
    "        continue\n",
    "    temp = {\n",
    "        'id': d['id'],\n",
    "        'input': d['input'],\n",
    "        'patient_data': \"\\n\".join(d['patient_data'].split(' - ')),\n",
    "        'org_label': d['org_label'],\n",
    "        'gpt4_gold': d['label'],\n",
    "    }\n",
    "    org_answer = answer_dict[d['org_label']]\n",
    "    for g in gpt4:\n",
    "        if g['id'] == d['id']:\n",
    "            tmp = g['prediction'].split(\"Diagnosis: \")[-1].strip()\n",
    "            if \".\" in tmp:\n",
    "                tmp = tmp.split(\".\")[0]\n",
    "            tmp_pred = answer_dict_for_gpt4[tmp]\n",
    "            tmp2 = g['prediction'].split(\"Diagnosis: \")[:-1][0] + \"\\n\" + tmp_pred\n",
    "            temp['gpt4_CoT'] = tmp2\n",
    "            gpt4_answer = get_answer(temp['gpt4_CoT'])\n",
    "            break\n",
    "        \n",
    "    for l in llama:\n",
    "        if l['id'] == d['id']:\n",
    "            temp['llama2'] = l['prediction']\n",
    "            llama_answer = get_answer(temp['llama2'])\n",
    "            break\n",
    "        \n",
    "    for o in opt:\n",
    "        if o['id'] == d['id']:\n",
    "            temp['opt6'] = o['prediction']\n",
    "            opt_answer = get_answer(temp['opt6'])\n",
    "            break\n",
    "    \n",
    "    for o1 in opt1:\n",
    "        if o1['id'] == d['id']:\n",
    "            temp['opt1'] = o1['prediction']\n",
    "            opt1_answer = get_answer(temp['opt1'])\n",
    "            break\n",
    "    \n",
    "    for f in frozen:\n",
    "        if f['id'] == d['id']:\n",
    "            temp['resnet50_llama2'] = f['prediction']\n",
    "            resnet50_llama2_answer = get_answer(temp['resnet50_llama2'])\n",
    "            break\n",
    "    save_data.append(temp)\n",
    "    if org_answer == gpt4_answer and org_answer == llama_answer and org_answer == opt_answer and org_answer == opt1_answer and org_answer == resnet50_llama2_answer:\n",
    "        all_corect_idx_list.append(d['id'])\n",
    "    if org_answer != gpt4_answer and org_answer != llama_answer and org_answer != opt_answer and org_answer != opt1_answer and org_answer != resnet50_llama2_answer:\n",
    "        all_wrong_idx_list.append(d['id'])\n",
    "\n",
    "print(len(save_data))\n",
    "    "
   ]
  },
  {
   "cell_type": "code",
   "execution_count": 5,
   "metadata": {},
   "outputs": [],
   "source": [
    "save_path = \"save_total/eval/json/path\"\n",
    "\n",
    "with open(save_path, \"w\") as f:\n",
    "    json.dump(save_data, f, indent=4, ensure_ascii=False)"
   ]
  },
  {
   "cell_type": "code",
   "execution_count": 6,
   "metadata": {},
   "outputs": [
    {
     "name": "stdout",
     "output_type": "stream",
     "text": [
      "295\n",
      "57\n"
     ]
    }
   ],
   "source": [
    "print(len(all_corect_idx_list))\n",
    "print(len(all_wrong_idx_list))"
   ]
  },
  {
   "cell_type": "code",
   "execution_count": 7,
   "metadata": {},
   "outputs": [],
   "source": [
    "save_correct_path = \"all/correct/json/data/path\"\n",
    "save_wrong_path = \"all/wrong/json/data/path\""
   ]
  },
  {
   "cell_type": "code",
   "execution_count": 8,
   "metadata": {},
   "outputs": [
    {
     "name": "stdout",
     "output_type": "stream",
     "text": [
      "Correct data: 295\n",
      "Wrong data: 57\n"
     ]
    }
   ],
   "source": [
    "correct_data = []\n",
    "wrong_data = []\n",
    "for d in save_data:\n",
    "    if d['id'] in all_corect_idx_list:\n",
    "        correct_data.append(d)\n",
    "    if d['id'] in all_wrong_idx_list:\n",
    "        wrong_data.append(d)\n",
    "\n",
    "print(f\"Correct data: {len(correct_data)}\")\n",
    "print(f\"Wrong data: {len(wrong_data)}\")"
   ]
  },
  {
   "cell_type": "code",
   "execution_count": 9,
   "metadata": {},
   "outputs": [],
   "source": [
    "# save data\n",
    "with open(save_correct_path, 'w') as f:\n",
    "    json.dump(correct_data, f, indent=4, ensure_ascii=False)\n",
    "\n",
    "with open(save_wrong_path, 'w') as f:\n",
    "    json.dump(wrong_data, f, indent=4, ensure_ascii=False)\n"
   ]
  },
  {
   "cell_type": "code",
   "execution_count": 10,
   "metadata": {},
   "outputs": [],
   "source": [
    "# statistics\n",
    "correct_dict = {\n",
    "    'Alzhimer\\'s Disease': 0,\n",
    "    'Mild Cognitive Impairment': 0,\n",
    "    'Normal Cognition': 0\n",
    "}\n",
    "correct_idx_dict = {\n",
    "    'Alzhimer\\'s Disease': [],\n",
    "    'Mild Cognitive Impairment': [],\n",
    "    'Normal Cognition': []\n",
    "}\n",
    "wrong_dict = {\n",
    "    'Alzhimer\\'s Disease': 0,\n",
    "    'Mild Cognitive Impairment': 0,\n",
    "    'Normal Cognition': 0\n",
    "}\n",
    "wrong_idx_dict = {\n",
    "    'Alzhimer\\'s Disease': [],\n",
    "    'Mild Cognitive Impairment': [],\n",
    "    'Normal Cognition': []\n",
    "}"
   ]
  },
  {
   "cell_type": "code",
   "execution_count": 11,
   "metadata": {},
   "outputs": [
    {
     "name": "stdout",
     "output_type": "stream",
     "text": [
      "{'Dementia': 152, 'Mild Cognitive Impairment': 31, 'Normal Cognition': 112}\n",
      "{'Dementia': 14, 'Mild Cognitive Impairment': 37, 'Normal Cognition': 6}\n"
     ]
    }
   ],
   "source": [
    "for idx, d in enumerate(correct_data):\n",
    "    correct_dict[d['org_label']] += 1\n",
    "    correct_idx_dict[d['org_label']].append(idx)\n",
    "    \n",
    "\n",
    "for idx, d in enumerate(wrong_data):\n",
    "    wrong_dict[d['org_label']] += 1\n",
    "    wrong_idx_dict[d['org_label']].append(idx)\n",
    "    \n",
    "print(correct_dict)\n",
    "print(wrong_dict)"
   ]
  },
  {
   "cell_type": "code",
   "execution_count": 33,
   "metadata": {},
   "outputs": [],
   "source": [
    "correct_idx_list = correct_idx_dict[\"Alzhimer\\'s Disease\"][4:8]\n",
    "wrong_idx_list = wrong_idx_dict[\"Alzhimer\\'s Disease\"][4:8]\n",
    "\n",
    "for val in correct_idx_dict[\"Mild Cognitive Impairment\"][3:6] : \n",
    "    correct_idx_list.append(val) \n",
    "for val in correct_idx_dict[\"Normal Cognition\"][3:6]:\n",
    "    correct_idx_list.append(val)\n",
    "\n",
    "\n",
    "for val in wrong_idx_dict[\"Mild Cognitive Impairment\"][3:6] : \n",
    "    wrong_idx_list.append(val)\n",
    "for val in wrong_idx_dict[\"Normal Cognition\"][3:6]:\n",
    "    wrong_idx_list.append(val)\n"
   ]
  },
  {
   "cell_type": "code",
   "execution_count": 34,
   "metadata": {},
   "outputs": [
    {
     "name": "stdout",
     "output_type": "stream",
     "text": [
      "10\n",
      "10\n"
     ]
    }
   ],
   "source": [
    "print(len(correct_idx_list))\n",
    "print(len(wrong_idx_list))"
   ]
  },
  {
   "cell_type": "code",
   "execution_count": 35,
   "metadata": {},
   "outputs": [],
   "source": [
    "# using correct_data and correct_idx_list\n",
    "correct_new_data = [correct_data[i] for i in correct_idx_list]\n",
    "wrong_new_data = [wrong_data[i] for i in wrong_idx_list]\n"
   ]
  },
  {
   "cell_type": "code",
   "execution_count": 37,
   "metadata": {},
   "outputs": [
    {
     "name": "stdout",
     "output_type": "stream",
     "text": [
      "10\n",
      "10\n"
     ]
    }
   ],
   "source": [
    "print(len(correct_new_data))\n",
    "print(len(wrong_new_data))"
   ]
  },
  {
   "cell_type": "code",
   "execution_count": 38,
   "metadata": {},
   "outputs": [
    {
     "name": "stdout",
     "output_type": "stream",
     "text": [
      "20\n"
     ]
    }
   ],
   "source": [
    "total_data = [i for i in correct_new_data]\n",
    "total_data.extend([i for i in wrong_new_data])\n",
    "print(len(total_data))\n",
    "# shuffle total_data\n",
    "import random\n",
    "random.shuffle(total_data)"
   ]
  },
  {
   "cell_type": "code",
   "execution_count": 39,
   "metadata": {},
   "outputs": [
    {
     "name": "stdout",
     "output_type": "stream",
     "text": [
      "20\n"
     ]
    }
   ],
   "source": [
    "new_data = []\n",
    "for idx, d in enumerate(total_data):\n",
    "    temp = {\n",
    "        \"id\": idx+1,\n",
    "        \"org_id\": d[\"id\"],\n",
    "        \"patient_data\": d[\"patient_data\"],\n",
    "        \"org_label\": \"Alzheimer's Disease\" if d[\"org_label\"] == 'Dementia' else d[\"org_label\"],\n",
    "        \"GPT4_Gold\": d[\"gpt4_gold\"],\n",
    "        \"GPT4_CoT\": d[\"gpt4_CoT\"],\n",
    "        \"LLaMA2_7B\": d[\"llama2\"],\n",
    "        \"OPT6B\": d[\"opt6\"],\n",
    "        \"OPT1B\": d[\"opt1\"],\n",
    "        \"resnet50_llama2\": d[\"resnet50_llama2\"],\n",
    "    }\n",
    "    new_data.append(temp)\n",
    "\n",
    "print(len(new_data))"
   ]
  },
  {
   "cell_type": "code",
   "execution_count": 40,
   "metadata": {},
   "outputs": [],
   "source": [
    "# save data\n",
    "save_path = \"Final/data/json/path\"\n",
    "with open(save_path, \"w\") as f:\n",
    "    json.dump(new_data, f, indent=4, ensure_ascii=False)"
   ]
  },
  {
   "cell_type": "code",
   "execution_count": null,
   "metadata": {},
   "outputs": [],
   "source": []
  }
 ],
 "metadata": {
  "kernelspec": {
   "display_name": "tyMR",
   "language": "python",
   "name": "python3"
  },
  "language_info": {
   "codemirror_mode": {
    "name": "ipython",
    "version": 3
   },
   "file_extension": ".py",
   "mimetype": "text/x-python",
   "name": "python",
   "nbconvert_exporter": "python",
   "pygments_lexer": "ipython3",
   "version": "3.9.17"
  },
  "orig_nbformat": 4
 },
 "nbformat": 4,
 "nbformat_minor": 2
}
