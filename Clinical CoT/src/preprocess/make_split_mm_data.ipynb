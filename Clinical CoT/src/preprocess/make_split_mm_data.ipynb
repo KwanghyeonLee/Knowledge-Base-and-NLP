{
 "cells": [
  {
   "cell_type": "code",
   "execution_count": 1,
   "metadata": {},
   "outputs": [],
   "source": [
    "import numpy as np\n",
    "import json\n",
    "import os\n",
    "import shutil\n",
    "from tqdm import tqdm"
   ]
  },
  {
   "cell_type": "code",
   "execution_count": 5,
   "metadata": {},
   "outputs": [],
   "source": [
    "dir_list = ['25', '50', '75']\n",
    "\n",
    "mm_base_dir = \"mm/original/data/path\"\n",
    "rationale_text_base_dir = \"text/split/data/root/path\""
   ]
  },
  {
   "cell_type": "code",
   "execution_count": 6,
   "metadata": {},
   "outputs": [],
   "source": [
    "def make_split_data(split_base_dir, mm_base_dir, dir_list, save_path_dir):\n",
    "    for dir_name in tqdm(dir_list):\n",
    "        text_path = os.path.join(split_base_dir, dir_name, 'train.json')\n",
    "        mm_path = os.path.join(mm_base_dir, 'train')\n",
    "        save_path = os.path.join(save_path_dir, dir_name, 'train')\n",
    "        \n",
    "        os.makedirs(save_path, exist_ok=True)\n",
    "        # open text json\n",
    "        with open(text_path, 'r') as f:\n",
    "            text_json = json.load(f)\n",
    "            if 'data' in text_json:\n",
    "                text_json = text_json['data']\n",
    "        \n",
    "        for idx, t in enumerate(text_json):\n",
    "            mm_temp_path = os.path.join(mm_path, f\"{t['id']}.npz\")\n",
    "            save_data = os.path.join(save_path, f\"{idx}.npz\")\n",
    "            shutil.copy(mm_temp_path, save_data)\n",
    "            \n",
    "            \n",
    "    "
   ]
  },
  {
   "cell_type": "code",
   "execution_count": 7,
   "metadata": {},
   "outputs": [
    {
     "name": "stderr",
     "output_type": "stream",
     "text": [
      "100%|██████████| 3/3 [20:13<00:00, 404.60s/it]\n"
     ]
    }
   ],
   "source": [
    "make_split_data(rationale_text_base_dir, mm_base_dir, dir_list, \"save/data/path\")"
   ]
  },
  {
   "cell_type": "code",
   "execution_count": null,
   "metadata": {},
   "outputs": [],
   "source": []
  }
 ],
 "metadata": {
  "kernelspec": {
   "display_name": "tyMR",
   "language": "python",
   "name": "python3"
  },
  "language_info": {
   "codemirror_mode": {
    "name": "ipython",
    "version": 3
   },
   "file_extension": ".py",
   "mimetype": "text/x-python",
   "name": "python",
   "nbconvert_exporter": "python",
   "pygments_lexer": "ipython3",
   "version": "3.9.17"
  },
  "orig_nbformat": 4
 },
 "nbformat": 4,
 "nbformat_minor": 2
}
